{
  "nbformat": 4,
  "nbformat_minor": 0,
  "metadata": {
    "colab": {
      "provenance": []
    },
    "kernelspec": {
      "display_name": "Python 3",
      "name": "python3"
    },
    "language_info": {
      "name": "python"
    },
    "accelerator": "GPU"
  },
  "cells": [
    {
      "cell_type": "code",
      "metadata": {
        "colab": {
          "base_uri": "https://localhost:8080/"
        },
        "id": "7jVNUO34tSPK",
        "outputId": "2e86340e-519a-4c45-ebc6-53e6697093ba"
      },
      "source": [
        "!pip install yfinance"
      ],
      "execution_count": null,
      "outputs": [
        {
          "output_type": "stream",
          "name": "stdout",
          "text": [
            "Collecting yfinance\n",
            "  Downloading yfinance-0.1.63.tar.gz (26 kB)\n",
            "Requirement already satisfied: pandas>=0.24 in /usr/local/lib/python3.7/dist-packages (from yfinance) (1.1.5)\n",
            "Requirement already satisfied: numpy>=1.15 in /usr/local/lib/python3.7/dist-packages (from yfinance) (1.19.5)\n",
            "Requirement already satisfied: requests>=2.20 in /usr/local/lib/python3.7/dist-packages (from yfinance) (2.23.0)\n",
            "Requirement already satisfied: multitasking>=0.0.7 in /usr/local/lib/python3.7/dist-packages (from yfinance) (0.0.9)\n",
            "Collecting lxml>=4.5.1\n",
            "  Downloading lxml-4.6.3-cp37-cp37m-manylinux2014_x86_64.whl (6.3 MB)\n",
            "\u001b[K     |████████████████████████████████| 6.3 MB 6.7 MB/s \n",
            "\u001b[?25hRequirement already satisfied: pytz>=2017.2 in /usr/local/lib/python3.7/dist-packages (from pandas>=0.24->yfinance) (2018.9)\n",
            "Requirement already satisfied: python-dateutil>=2.7.3 in /usr/local/lib/python3.7/dist-packages (from pandas>=0.24->yfinance) (2.8.2)\n",
            "Requirement already satisfied: six>=1.5 in /usr/local/lib/python3.7/dist-packages (from python-dateutil>=2.7.3->pandas>=0.24->yfinance) (1.15.0)\n",
            "Requirement already satisfied: idna<3,>=2.5 in /usr/local/lib/python3.7/dist-packages (from requests>=2.20->yfinance) (2.10)\n",
            "Requirement already satisfied: certifi>=2017.4.17 in /usr/local/lib/python3.7/dist-packages (from requests>=2.20->yfinance) (2021.5.30)\n",
            "Requirement already satisfied: chardet<4,>=3.0.2 in /usr/local/lib/python3.7/dist-packages (from requests>=2.20->yfinance) (3.0.4)\n",
            "Requirement already satisfied: urllib3!=1.25.0,!=1.25.1,<1.26,>=1.21.1 in /usr/local/lib/python3.7/dist-packages (from requests>=2.20->yfinance) (1.24.3)\n",
            "Building wheels for collected packages: yfinance\n",
            "  Building wheel for yfinance (setup.py) ... \u001b[?25l\u001b[?25hdone\n",
            "  Created wheel for yfinance: filename=yfinance-0.1.63-py2.py3-none-any.whl size=23918 sha256=ef580834c2e56e30fc429b7d839a4c895466a9026c28846a279ffeff9811a4fb\n",
            "  Stored in directory: /root/.cache/pip/wheels/fe/87/8b/7ec24486e001d3926537f5f7801f57a74d181be25b11157983\n",
            "Successfully built yfinance\n",
            "Installing collected packages: lxml, yfinance\n",
            "  Attempting uninstall: lxml\n",
            "    Found existing installation: lxml 4.2.6\n",
            "    Uninstalling lxml-4.2.6:\n",
            "      Successfully uninstalled lxml-4.2.6\n",
            "Successfully installed lxml-4.6.3 yfinance-0.1.63\n"
          ]
        }
      ]
    },
    {
      "cell_type": "code",
      "metadata": {
        "colab": {
          "base_uri": "https://localhost:8080/"
        },
        "id": "TVw0fX1woTKk",
        "outputId": "1df81990-e424-485e-82de-117a9a238ca8"
      },
      "source": [
        "import tensorflow as tf\n",
        "import numpy as np\n",
        "import pandas as pd\n",
        "from matplotlib import pyplot as plt\n",
        "import seaborn as sns\n",
        "from datetime import datetime\n",
        "from pandas_datareader import data as wb\n",
        "import yfinance as yf\n",
        "\n",
        "print('Tensorflow   : {}'.format(tf.__version__))\n",
        "print('Numpy   : {}'.format(np.__version__))"
      ],
      "execution_count": null,
      "outputs": [
        {
          "output_type": "stream",
          "name": "stdout",
          "text": [
            "Tensorflow   : 2.6.0\n",
            "Numpy   : 1.19.5\n"
          ]
        }
      ]
    },
    {
      "cell_type": "code",
      "metadata": {
        "colab": {
          "base_uri": "https://localhost:8080/",
          "height": 455
        },
        "id": "aQuZkqS3puAG",
        "outputId": "380a2aab-49c0-44f3-f369-3404905a4227"
      },
      "source": [
        "start_date = datetime(2004, 9, 13)\n",
        "end_date = datetime(2021, 7, 30)\n",
        "tickers = ['GOOGL']\n",
        "\n",
        "brk = yf.Ticker(tickers[0])\n",
        "\n",
        "hist = brk.history(start= start_date,\n",
        "                   end= end_date)\n",
        "hist"
      ],
      "execution_count": null,
      "outputs": [
        {
          "output_type": "execute_result",
          "data": {
            "text/html": [
              "<div>\n",
              "<style scoped>\n",
              "    .dataframe tbody tr th:only-of-type {\n",
              "        vertical-align: middle;\n",
              "    }\n",
              "\n",
              "    .dataframe tbody tr th {\n",
              "        vertical-align: top;\n",
              "    }\n",
              "\n",
              "    .dataframe thead th {\n",
              "        text-align: right;\n",
              "    }\n",
              "</style>\n",
              "<table border=\"1\" class=\"dataframe\">\n",
              "  <thead>\n",
              "    <tr style=\"text-align: right;\">\n",
              "      <th></th>\n",
              "      <th>Open</th>\n",
              "      <th>High</th>\n",
              "      <th>Low</th>\n",
              "      <th>Close</th>\n",
              "      <th>Volume</th>\n",
              "      <th>Dividends</th>\n",
              "      <th>Stock Splits</th>\n",
              "    </tr>\n",
              "    <tr>\n",
              "      <th>Date</th>\n",
              "      <th></th>\n",
              "      <th></th>\n",
              "      <th></th>\n",
              "      <th></th>\n",
              "      <th></th>\n",
              "      <th></th>\n",
              "      <th></th>\n",
              "    </tr>\n",
              "  </thead>\n",
              "  <tbody>\n",
              "    <tr>\n",
              "      <th>2004-09-13</th>\n",
              "      <td>53.368366</td>\n",
              "      <td>54.259258</td>\n",
              "      <td>53.283283</td>\n",
              "      <td>53.803802</td>\n",
              "      <td>7844148</td>\n",
              "      <td>0</td>\n",
              "      <td>0.0</td>\n",
              "    </tr>\n",
              "    <tr>\n",
              "      <th>2004-09-14</th>\n",
              "      <td>53.778778</td>\n",
              "      <td>56.056057</td>\n",
              "      <td>53.448448</td>\n",
              "      <td>55.800800</td>\n",
              "      <td>10828960</td>\n",
              "      <td>0</td>\n",
              "      <td>0.0</td>\n",
              "    </tr>\n",
              "    <tr>\n",
              "      <th>2004-09-15</th>\n",
              "      <td>55.335335</td>\n",
              "      <td>57.172173</td>\n",
              "      <td>55.155155</td>\n",
              "      <td>56.056057</td>\n",
              "      <td>10713076</td>\n",
              "      <td>0</td>\n",
              "      <td>0.0</td>\n",
              "    </tr>\n",
              "    <tr>\n",
              "      <th>2004-09-16</th>\n",
              "      <td>56.226227</td>\n",
              "      <td>57.957958</td>\n",
              "      <td>55.880882</td>\n",
              "      <td>57.042042</td>\n",
              "      <td>9266324</td>\n",
              "      <td>0</td>\n",
              "      <td>0.0</td>\n",
              "    </tr>\n",
              "    <tr>\n",
              "      <th>2004-09-17</th>\n",
              "      <td>57.267265</td>\n",
              "      <td>58.803802</td>\n",
              "      <td>56.831833</td>\n",
              "      <td>58.803802</td>\n",
              "      <td>9472518</td>\n",
              "      <td>0</td>\n",
              "      <td>0.0</td>\n",
              "    </tr>\n",
              "    <tr>\n",
              "      <th>...</th>\n",
              "      <td>...</td>\n",
              "      <td>...</td>\n",
              "      <td>...</td>\n",
              "      <td>...</td>\n",
              "      <td>...</td>\n",
              "      <td>...</td>\n",
              "      <td>...</td>\n",
              "    </tr>\n",
              "    <tr>\n",
              "      <th>2021-07-23</th>\n",
              "      <td>2608.610107</td>\n",
              "      <td>2667.979980</td>\n",
              "      <td>2596.010010</td>\n",
              "      <td>2660.300049</td>\n",
              "      <td>2075300</td>\n",
              "      <td>0</td>\n",
              "      <td>0.0</td>\n",
              "    </tr>\n",
              "    <tr>\n",
              "      <th>2021-07-26</th>\n",
              "      <td>2666.570068</td>\n",
              "      <td>2684.739990</td>\n",
              "      <td>2646.030029</td>\n",
              "      <td>2680.699951</td>\n",
              "      <td>1528600</td>\n",
              "      <td>0</td>\n",
              "      <td>0.0</td>\n",
              "    </tr>\n",
              "    <tr>\n",
              "      <th>2021-07-27</th>\n",
              "      <td>2685.010010</td>\n",
              "      <td>2687.979980</td>\n",
              "      <td>2602.080078</td>\n",
              "      <td>2638.000000</td>\n",
              "      <td>2735500</td>\n",
              "      <td>0</td>\n",
              "      <td>0.0</td>\n",
              "    </tr>\n",
              "    <tr>\n",
              "      <th>2021-07-28</th>\n",
              "      <td>2726.239990</td>\n",
              "      <td>2765.939941</td>\n",
              "      <td>2705.550049</td>\n",
              "      <td>2721.879883</td>\n",
              "      <td>4756500</td>\n",
              "      <td>0</td>\n",
              "      <td>0.0</td>\n",
              "    </tr>\n",
              "    <tr>\n",
              "      <th>2021-07-29</th>\n",
              "      <td>2723.000000</td>\n",
              "      <td>2733.219971</td>\n",
              "      <td>2710.860107</td>\n",
              "      <td>2715.550049</td>\n",
              "      <td>1585800</td>\n",
              "      <td>0</td>\n",
              "      <td>0.0</td>\n",
              "    </tr>\n",
              "  </tbody>\n",
              "</table>\n",
              "<p>4250 rows × 7 columns</p>\n",
              "</div>"
            ],
            "text/plain": [
              "                   Open         High  ...  Dividends  Stock Splits\n",
              "Date                                  ...                         \n",
              "2004-09-13    53.368366    54.259258  ...          0           0.0\n",
              "2004-09-14    53.778778    56.056057  ...          0           0.0\n",
              "2004-09-15    55.335335    57.172173  ...          0           0.0\n",
              "2004-09-16    56.226227    57.957958  ...          0           0.0\n",
              "2004-09-17    57.267265    58.803802  ...          0           0.0\n",
              "...                 ...          ...  ...        ...           ...\n",
              "2021-07-23  2608.610107  2667.979980  ...          0           0.0\n",
              "2021-07-26  2666.570068  2684.739990  ...          0           0.0\n",
              "2021-07-27  2685.010010  2687.979980  ...          0           0.0\n",
              "2021-07-28  2726.239990  2765.939941  ...          0           0.0\n",
              "2021-07-29  2723.000000  2733.219971  ...          0           0.0\n",
              "\n",
              "[4250 rows x 7 columns]"
            ]
          },
          "metadata": {},
          "execution_count": 3
        }
      ]
    },
    {
      "cell_type": "markdown",
      "metadata": {
        "id": "BGvsBKPuZEBP"
      },
      "source": [
        "##Feature Engineering"
      ]
    },
    {
      "cell_type": "code",
      "metadata": {
        "id": "e_3SDP8aws6Q"
      },
      "source": [
        "df = pd.DataFrame()\n",
        "df['Change_of_price'] = hist['Close'].diff()\n",
        "n = 14\n",
        "\n",
        "def RSI(n, df):\n",
        "  up_df, down_df = df['Change_of_price'].copy(), df['Change_of_price'].copy()\n",
        "  up_df, down_df = pd.DataFrame(up_df), pd.DataFrame(down_df)\n",
        "\n",
        "  up_df.loc['Change_of_price'] = up_df.loc[(up_df['Change_of_price'] < 0, 'Change_of_price')] = 0\n",
        "  down_df.loc['Change_of_price'] = down_df.loc[(down_df['Change_of_price'] > 0, 'Change_of_price')] = 0\n",
        "  down_df['Change_of_price'] = down_df['Change_of_price'].abs()\n",
        "\n",
        "  ewma_up = up_df['Change_of_price'].transform(lambda x: x.ewm(span= n).mean())\n",
        "  ewma_down = down_df['Change_of_price'].transform(lambda x: x.ewm(span= n).mean())\n",
        "\n",
        "  relative_strength = ewma_up / ewma_down\n",
        "  relative_strength_index = 100.0 - (100.0 / (1.0 + relative_strength))\n",
        "\n",
        "  return relative_strength_index\n",
        "\n",
        "def SO(n, df):\n",
        "  low_n, high_n = df['Low'].copy(), df['High'].copy()\n",
        "  low_n, high_n = pd.DataFrame(low_n), pd.DataFrame(high_n)\n",
        "\n",
        "  low_n = low_n['Low'].transform(lambda x: x.rolling(window= n).min())\n",
        "  high_n = high_n['High'].transform(lambda x: x.rolling(window= n).max())\n",
        "\n",
        "  so = 100 * ((df['Close'] - low_n) / (high_n - low_n))\n",
        "\n",
        "  return so\n",
        "\n",
        "def WILR(n, df):\n",
        "  low_n, high_n = df['Low'].copy(), df['High'].copy()\n",
        "  low_n, high_n = pd.DataFrame(low_n), pd.DataFrame(high_n)\n",
        "\n",
        "  low_n = low_n['Low'].transform(lambda x: x.rolling(window= n).min())\n",
        "  high_n = high_n['High'].transform(lambda x: x.rolling(window= n).max())\n",
        "\n",
        "  wr = (-100) * ((high_n - df['Close']) / (high_n - low_n))\n",
        "\n",
        "  return wr\n",
        "\n",
        "def MACD(df):\n",
        "  ema_26 = df['Close'].transform(lambda x: x.ewm(span= 26).mean())\n",
        "  ema_12 = df['Close'].transform(lambda x: x.ewm(span= 12).mean())\n",
        "\n",
        "  macd = ema_12 - ema_26\n",
        "  ema = macd.ewm(span= 9).mean()\n",
        "\n",
        "  return macd, ema\n",
        "\n",
        "def PRC(n, df):\n",
        "  prc = df['Close'].transform(lambda x: x.pct_change(periods= n))\n",
        "  return prc\n",
        "\n",
        "def OBV(df):\n",
        "  volume = df['Volume']\n",
        "  change = df['Close'].diff()\n",
        "\n",
        "  pre_obv = 0\n",
        "  obv_l = []\n",
        "\n",
        "  for i,j in zip(change, volume):\n",
        "    if i > 0:\n",
        "      current_obv = pre_obv + j\n",
        "    elif i < 0:\n",
        "      current_obv = pre_obv - j\n",
        "    else:\n",
        "      current_obv = pre_obv\n",
        "    pre_obv = current_obv\n",
        "    obv_l.append(pre_obv)\n",
        "  \n",
        "  return pd.Series(obv_l, index= df.index)"
      ],
      "execution_count": null,
      "outputs": []
    },
    {
      "cell_type": "code",
      "metadata": {
        "colab": {
          "base_uri": "https://localhost:8080/"
        },
        "id": "9_P0T8yI_RfD",
        "outputId": "d273394a-5c5a-48e5-939c-76186966467d"
      },
      "source": [
        "df['RSI'] = RSI(n, df)\n",
        "df['SO'] = SO(n, hist)\n",
        "df['WILR'] = WILR(n, hist)\n",
        "df['MACD'], df['MACD_EMA'] = MACD(hist)\n",
        "df['PRC'] = PRC(n, hist)\n",
        "df['OBV'] = OBV(hist)\n",
        "df['CLOSE'] = hist['Close'].values\n",
        "df = df.dropna()\n",
        "print(df.shape)\n",
        "\n",
        "cols = list(df)[:]\n",
        "print(cols)\n",
        "\n",
        "df = df[cols].astype(float)"
      ],
      "execution_count": null,
      "outputs": [
        {
          "output_type": "stream",
          "name": "stdout",
          "text": [
            "(4236, 9)\n",
            "['Change_of_price', 'RSI', 'SO', 'WILR', 'MACD', 'MACD_EMA', 'PRC', 'OBV', 'CLOSE']\n"
          ]
        }
      ]
    },
    {
      "cell_type": "code",
      "metadata": {
        "colab": {
          "base_uri": "https://localhost:8080/"
        },
        "id": "-4byvleGt140",
        "outputId": "1efa0275-7312-44f0-9df0-1c0bc065d167"
      },
      "source": [
        "X_train = df[df.index <= '2020-07-30'].copy()\n",
        "X_test = df[df.index > '2020-07-30'].copy()\n",
        "y_train = X_train['CLOSE'].copy()\n",
        "y_test = X_test['CLOSE'].copy()\n",
        "\n",
        "X_train = X_train.drop(['CLOSE'], axis=1)\n",
        "X_test = X_test.drop(['CLOSE'], axis=1)\n",
        "\n",
        "print(X_train.shape, X_test.shape)\n",
        "print(y_train.shape, y_test.shape)"
      ],
      "execution_count": null,
      "outputs": [
        {
          "output_type": "stream",
          "name": "stdout",
          "text": [
            "(3985, 8) (251, 8)\n",
            "(3985,) (251,)\n"
          ]
        }
      ]
    },
    {
      "cell_type": "code",
      "metadata": {
        "id": "Nk8rqTF-_24w"
      },
      "source": [
        "from sklearn.preprocessing import StandardScaler\n",
        "tmp_sc = StandardScaler()\n",
        "\n",
        "df = tmp_sc.fit_transform(df)"
      ],
      "execution_count": null,
      "outputs": []
    },
    {
      "cell_type": "code",
      "metadata": {
        "id": "zJdN-MJuQMg_"
      },
      "source": [
        "from sklearn.preprocessing import StandardScaler\n",
        "X_scaler = StandardScaler()\n",
        "Y_scaler = StandardScaler()\n",
        "\n",
        "X_train, X_test = np.array(X_train), np.array(X_test)\n",
        "y_train, y_test = np.array(y_train), np.array(y_test)\n",
        "y_train, y_test = np.reshape(y_train, (-1,1)), np.reshape(y_test, (-1,1))\n",
        "\n",
        "X_train = X_scaler.fit_transform(X_train)\n",
        "X_test = X_scaler.transform(X_test)\n",
        "\n",
        "y_train = Y_scaler.fit_transform(y_train)\n",
        "y_test = Y_scaler.transform(y_test)\n",
        "y_train, y_test = np.reshape(y_train, (-1)), np.reshape(y_test, (-1))"
      ],
      "execution_count": null,
      "outputs": []
    },
    {
      "cell_type": "code",
      "metadata": {
        "id": "awFO0nO9RCWZ"
      },
      "source": [
        "def create_batches(df, n_future, n_past, dfy = None):\n",
        "  X = []\n",
        "  Y = []\n",
        "\n",
        "  if isinstance(df, (np.ndarray)) and dfy is not None:\n",
        "    for i in range(n_past, df.shape[0]):\n",
        "      X.append(df[i - n_past:i])\n",
        "      Y.append(dfy[i])\n",
        "  else:\n",
        "    for i in range(n_past, len(df) - n_future +1):\n",
        "        X.append(df[i - n_past:i, 0:df.shape[1] - 1])\n",
        "        Y.append(df[i + n_future - 1:i + n_future, -1])\n",
        "  \n",
        "  X, Y = np.array(X), np.array(Y)\n",
        "  if Y.ndim == 1:\n",
        "    Y = np.reshape(Y, (-1,1))\n",
        "  print(f'X shape:  {X.shape}')\n",
        "  print(f'Y shape:  {Y.shape}')\n",
        "  return X, Y"
      ],
      "execution_count": null,
      "outputs": []
    },
    {
      "cell_type": "code",
      "metadata": {
        "colab": {
          "base_uri": "https://localhost:8080/"
        },
        "id": "G62zDVGH_dTK",
        "outputId": "687ed93d-921e-4a83-eea2-6e5c22abdcb4"
      },
      "source": [
        "n_f = 1\n",
        "n_p = 60\n",
        "\n",
        "X, y = create_batches(df, n_f, n_p)"
      ],
      "execution_count": null,
      "outputs": [
        {
          "output_type": "stream",
          "name": "stdout",
          "text": [
            "X shape:  (4176, 60, 8)\n",
            "Y shape:  (4176, 1)\n"
          ]
        }
      ]
    },
    {
      "cell_type": "code",
      "metadata": {
        "colab": {
          "base_uri": "https://localhost:8080/"
        },
        "id": "BBMQw2Sm8E1p",
        "outputId": "e8185aae-25c5-408d-fd9e-79b4b9c1467c"
      },
      "source": [
        "X_train, y_train = create_batches(X_train, n_f, n_p, y_train)\n",
        "X_test, y_test = create_batches(X_test, n_f, n_p, y_test)"
      ],
      "execution_count": null,
      "outputs": [
        {
          "output_type": "stream",
          "name": "stdout",
          "text": [
            "X shape:  (3925, 60, 8)\n",
            "Y shape:  (3925, 1)\n",
            "X shape:  (191, 60, 8)\n",
            "Y shape:  (191, 1)\n"
          ]
        }
      ]
    },
    {
      "cell_type": "markdown",
      "metadata": {
        "id": "qNIOo-16yyI7"
      },
      "source": [
        "##LRfinder"
      ]
    },
    {
      "cell_type": "code",
      "metadata": {
        "id": "Gzbhn0XyyIIK"
      },
      "source": [
        "import math\n",
        "from keras.callbacks import LambdaCallback\n",
        "import keras.backend as K\n",
        "\n",
        "class LRFinder:\n",
        "    \"\"\"\n",
        "    Plots the change of the loss function of a Keras model when the learning rate is exponentially increasing.\n",
        "    See for details:\n",
        "    https://towardsdatascience.com/estimating-optimal-learning-rate-for-a-deep-neural-network-ce32f2556ce0\n",
        "    \"\"\"\n",
        "    def __init__(self, model):\n",
        "        self.model = model\n",
        "        self.losses = []\n",
        "        self.lrs = []\n",
        "        self.best_loss = 1e9\n",
        "\n",
        "    def on_batch_end(self, batch, logs):\n",
        "        # Log the learning rate\n",
        "        lr = K.get_value(self.model.optimizer.lr)\n",
        "        self.lrs.append(lr)\n",
        "\n",
        "        # Log the loss\n",
        "        loss = logs['loss']\n",
        "        self.losses.append(loss)\n",
        "\n",
        "        # Check whether the loss got too large or NaN\n",
        "        if math.isnan(loss) or loss > self.best_loss * 4:\n",
        "            self.model.stop_training = True\n",
        "            return\n",
        "\n",
        "        if loss < self.best_loss:\n",
        "            self.best_loss = loss\n",
        "\n",
        "        # Increase the learning rate for the next batch\n",
        "        lr *= self.lr_mult\n",
        "        K.set_value(self.model.optimizer.lr, lr)\n",
        "\n",
        "    def find(self, x_train, y_train, start_lr, end_lr, batch_size=64, epochs=1):\n",
        "        num_batches = epochs * x_train.shape[0] / batch_size\n",
        "        self.lr_mult = (end_lr / start_lr) ** (1 / num_batches)\n",
        "\n",
        "        # Save weights into a file\n",
        "        initial_weights = self.model.get_weights()\n",
        "        # self.model.save_weights('tmp.h5')\n",
        "\n",
        "        # Remember the original learning rate\n",
        "        original_lr = K.get_value(self.model.optimizer.lr)\n",
        "\n",
        "        # Set the initial learning rate\n",
        "        K.set_value(self.model.optimizer.lr, start_lr)\n",
        "\n",
        "        callback = LambdaCallback(on_batch_end=lambda batch, logs: self.on_batch_end(batch, logs))\n",
        "\n",
        "        self.model.fit(x_train, y_train,\n",
        "                        batch_size=batch_size, epochs=epochs,\n",
        "                        callbacks=[callback])\n",
        "\n",
        "        # Restore the weights to the state before model fitting\n",
        "        self.model.set_weights(initial_weights)\n",
        "        # self.model.load_weights('tmp.h5')\n",
        "\n",
        "        # Restore the original learning rate\n",
        "        K.set_value(self.model.optimizer.lr, original_lr)\n",
        "\n",
        "    def plot_loss(self, n_skip_beginning=10, n_skip_end=5):\n",
        "        \"\"\"\n",
        "        Plots the loss.\n",
        "        Parameters:\n",
        "            n_skip_beginning - number of batches to skip on the left.\n",
        "            n_skip_end - number of batches to skip on the right.\n",
        "        \"\"\"\n",
        "        plt.ylabel(\"loss\")\n",
        "        plt.xlabel(\"learning rate (log scale)\")\n",
        "        plt.plot(self.lrs[n_skip_beginning:-n_skip_end], self.losses[n_skip_beginning:-n_skip_end])\n",
        "        plt.xscale('log')\n",
        "\n",
        "    def get_derivatives(self, sma=1):\n",
        "        assert sma >= 1\n",
        "        derivatives = [0] * sma\n",
        "        for i in range(sma, len(self.lrs)):\n",
        "            derivatives.append((self.losses[i] - self.losses[i - sma]) / sma)\n",
        "        return derivatives\n",
        "\n",
        "    def get_best_lr(self, sma=1, n_skip_beginning=10, n_skip_end=5):\n",
        "        derivatives = self.get_derivatives(sma)\n",
        "        best_der_idx = np.argmin(derivatives[n_skip_beginning:-n_skip_end])\n",
        "        return self.lrs[n_skip_beginning:-n_skip_end][best_der_idx]"
      ],
      "execution_count": null,
      "outputs": []
    },
    {
      "cell_type": "markdown",
      "metadata": {
        "id": "U5JEBQa9ZIN6"
      },
      "source": [
        "##Model"
      ]
    },
    {
      "cell_type": "code",
      "metadata": {
        "id": "kXs3k5sOWeC6"
      },
      "source": [
        "from tensorflow.keras.callbacks import EarlyStopping, ReduceLROnPlateau\n",
        "from tensorflow.keras.optimizers import Adam\n",
        "\n",
        "\n",
        "reduce_lr = ReduceLROnPlateau(monitor='val_loss', \n",
        "                              factor=0.8, \n",
        "                              patience=5, \n",
        "                              min_lr=0.001, \n",
        "                              verbose=1)\n",
        "\n",
        "es = EarlyStopping(monitor='val_loss', \n",
        "                   mode='auto', \n",
        "                   verbose=1, \n",
        "                   patience=11)\n",
        "\n",
        "lr = 0.005\n",
        "opt = Adam(learning_rate= lr)"
      ],
      "execution_count": null,
      "outputs": []
    },
    {
      "cell_type": "code",
      "metadata": {
        "colab": {
          "base_uri": "https://localhost:8080/"
        },
        "id": "TWIKY8WRUv2g",
        "outputId": "a1b02a24-412a-4a42-cc27-1386a4e8afd7"
      },
      "source": [
        "from tensorflow.keras.models import Sequential\n",
        "from tensorflow.keras.layers import LSTM, Dense, Dropout, Bidirectional\n",
        "\n",
        "model = Sequential()\n",
        "model.add(Bidirectional(LSTM(30, activation='relu', return_sequences= True), input_shape=(X_train.shape[1], X_train.shape[2])))\n",
        "model.add(Dropout(0.2))\n",
        "model.add(Bidirectional(LSTM(40, activation='relu', return_sequences= False)))\n",
        "model.add(Dropout(0.3))\n",
        "# model.add(Bidirectional(LSTM(70, activation='relu', return_sequences= False)))\n",
        "# model.add(Dropout(0.4))\n",
        "model.add(Dense(y_train.shape[1]))\n",
        "\n",
        "model.compile(optimizer= opt, loss='mse')\n",
        "model.summary()"
      ],
      "execution_count": null,
      "outputs": [
        {
          "output_type": "stream",
          "name": "stdout",
          "text": [
            "WARNING:tensorflow:Layer lstm_4 will not use cuDNN kernels since it doesn't meet the criteria. It will use a generic GPU kernel as fallback when running on GPU.\n",
            "WARNING:tensorflow:Layer lstm_4 will not use cuDNN kernels since it doesn't meet the criteria. It will use a generic GPU kernel as fallback when running on GPU.\n",
            "WARNING:tensorflow:Layer lstm_4 will not use cuDNN kernels since it doesn't meet the criteria. It will use a generic GPU kernel as fallback when running on GPU.\n",
            "WARNING:tensorflow:Layer lstm_5 will not use cuDNN kernels since it doesn't meet the criteria. It will use a generic GPU kernel as fallback when running on GPU.\n",
            "WARNING:tensorflow:Layer lstm_5 will not use cuDNN kernels since it doesn't meet the criteria. It will use a generic GPU kernel as fallback when running on GPU.\n",
            "WARNING:tensorflow:Layer lstm_5 will not use cuDNN kernels since it doesn't meet the criteria. It will use a generic GPU kernel as fallback when running on GPU.\n",
            "Model: \"sequential_2\"\n",
            "_________________________________________________________________\n",
            "Layer (type)                 Output Shape              Param #   \n",
            "=================================================================\n",
            "bidirectional_4 (Bidirection (None, 60, 60)            9360      \n",
            "_________________________________________________________________\n",
            "dropout_4 (Dropout)          (None, 60, 60)            0         \n",
            "_________________________________________________________________\n",
            "bidirectional_5 (Bidirection (None, 80)                32320     \n",
            "_________________________________________________________________\n",
            "dropout_5 (Dropout)          (None, 80)                0         \n",
            "_________________________________________________________________\n",
            "dense_2 (Dense)              (None, 1)                 81        \n",
            "=================================================================\n",
            "Total params: 41,761\n",
            "Trainable params: 41,761\n",
            "Non-trainable params: 0\n",
            "_________________________________________________________________\n"
          ]
        }
      ]
    },
    {
      "cell_type": "code",
      "metadata": {
        "colab": {
          "base_uri": "https://localhost:8080/",
          "height": 392
        },
        "id": "BRdrBT5j0wk3",
        "outputId": "c305fe42-c980-4813-b259-4d03c6cdf826"
      },
      "source": [
        "bs = 32\n",
        "\n",
        "lr_finder = LRFinder(model)\n",
        "lr_finder.find(X_train, y_train, \n",
        "               start_lr=0.0000001, end_lr=100, batch_size= bs, epochs=5)\n",
        "lr_finder.plot_loss(n_skip_beginning=20, n_skip_end=5)\n",
        "plt.show()"
      ],
      "execution_count": null,
      "outputs": [
        {
          "output_type": "stream",
          "name": "stdout",
          "text": [
            "Epoch 1/5\n",
            "123/123 [==============================] - 86s 656ms/step - loss: 0.9266\n",
            "Epoch 2/5\n",
            "123/123 [==============================] - 78s 635ms/step - loss: 0.8511\n",
            "Epoch 3/5\n",
            "123/123 [==============================] - 40s 326ms/step - loss: 9.0769\n"
          ]
        },
        {
          "output_type": "display_data",
          "data": {
            "image/png": "[encoded data removed]",
            "text/plain": [
              "<Figure size 432x288 with 1 Axes>"
            ]
          },
          "metadata": {
            "needs_background": "light"
          }
        }
      ]
    },
    {
      "cell_type": "code",
      "metadata": {
        "colab": {
          "base_uri": "https://localhost:8080/"
        },
        "id": "hfcHgZYY3ELi",
        "outputId": "67855b9a-94f4-446a-c557-a033ba3f0bc3"
      },
      "source": [
        "for i, j in zip(lr_finder.losses, lr_finder.lrs):\n",
        "  if i == lr_finder.best_loss:\n",
        "    print(j)"
      ],
      "execution_count": null,
      "outputs": [
        {
          "output_type": "stream",
          "name": "stdout",
          "text": [
            "0.0029917376\n"
          ]
        }
      ]
    },
    {
      "cell_type": "code",
      "metadata": {
        "colab": {
          "base_uri": "https://localhost:8080/",
          "height": 1000
        },
        "id": "zD6jdw4hZwdc",
        "outputId": "6be9d164-1ad0-4557-b601-cbb4d751e297"
      },
      "source": [
        "#bs = 32\n",
        "epochs = 50\n",
        "\n",
        "history = model.fit(X_train, y_train, \n",
        "                    epochs= epochs, \n",
        "                    batch_size= bs, \n",
        "                    validation_split= 0.05, \n",
        "                    verbose= 1,\n",
        "                    shuffle=False,\n",
        "                    callbacks= [reduce_lr, es])"
      ],
      "execution_count": null,
      "outputs": [
        {
          "output_type": "stream",
          "name": "stdout",
          "text": [
            "Epoch 1/50\n",
            "117/117 [==============================] - 79s 640ms/step - loss: 1130709385216.0000 - val_loss: 9295299584.0000\n",
            "Epoch 2/50\n",
            "117/117 [==============================] - 75s 637ms/step - loss: 2716397469696.0000 - val_loss: 4269.0068\n",
            "Epoch 3/50\n",
            "117/117 [==============================] - 72s 618ms/step - loss: 7.1968 - val_loss: 1660.4292\n",
            "Epoch 4/50\n",
            "117/117 [==============================] - 71s 609ms/step - loss: 1.2890 - val_loss: 951.8007\n",
            "Epoch 5/50\n",
            "117/117 [==============================] - 71s 606ms/step - loss: 1.2849 - val_loss: 1196.6124\n",
            "Epoch 6/50\n",
            "117/117 [==============================] - 71s 608ms/step - loss: 1.0773 - val_loss: 2074.0393\n",
            "Epoch 7/50\n",
            "117/117 [==============================] - 71s 606ms/step - loss: 0.9748 - val_loss: 9591.2803\n",
            "Epoch 8/50\n",
            "117/117 [==============================] - 72s 611ms/step - loss: 1.0440 - val_loss: 5947.2417\n",
            "Epoch 9/50\n",
            "117/117 [==============================] - 73s 621ms/step - loss: 0.9091 - val_loss: 6375.9658\n",
            "\n",
            "Epoch 00009: ReduceLROnPlateau reducing learning rate to 0.003999999910593033.\n",
            "Epoch 10/50\n",
            "117/117 [==============================] - 75s 638ms/step - loss: 0.8796 - val_loss: 6687.8882\n",
            "Epoch 11/50\n",
            "117/117 [==============================] - 74s 634ms/step - loss: 0.9106 - val_loss: 2574.4185\n",
            "Epoch 12/50\n",
            "117/117 [==============================] - 71s 610ms/step - loss: 0.8802 - val_loss: 969.0195\n",
            "Epoch 13/50\n",
            "117/117 [==============================] - 71s 611ms/step - loss: 0.8194 - val_loss: 242.8442\n",
            "Epoch 14/50\n",
            "117/117 [==============================] - 70s 602ms/step - loss: 0.8886 - val_loss: 282.8273\n",
            "Epoch 15/50\n",
            "117/117 [==============================] - 72s 616ms/step - loss: 0.8738 - val_loss: 80.3759\n",
            "Epoch 16/50\n",
            "117/117 [==============================] - 73s 621ms/step - loss: 0.7349 - val_loss: 276.2424\n",
            "Epoch 17/50\n",
            "117/117 [==============================] - 74s 630ms/step - loss: 0.7425 - val_loss: 262.4519\n",
            "Epoch 18/50\n",
            "117/117 [==============================] - 74s 633ms/step - loss: 0.7395 - val_loss: 272.7699\n",
            "Epoch 19/50\n",
            "117/117 [==============================] - 72s 616ms/step - loss: 0.7742 - val_loss: 164.1078\n",
            "Epoch 20/50\n",
            "117/117 [==============================] - 74s 637ms/step - loss: 1.5813 - val_loss: 58.0719\n",
            "Epoch 21/50\n",
            "117/117 [==============================] - 75s 640ms/step - loss: 0.9842 - val_loss: 41.9671\n",
            "Epoch 22/50\n",
            "117/117 [==============================] - 75s 643ms/step - loss: 0.9182 - val_loss: 34.3960\n",
            "Epoch 23/50\n",
            "117/117 [==============================] - 73s 621ms/step - loss: 0.8637 - val_loss: 54.8660\n",
            "Epoch 24/50\n",
            "117/117 [==============================] - 75s 641ms/step - loss: 0.8379 - val_loss: 103.1270\n",
            "Epoch 25/50\n",
            "117/117 [==============================] - 74s 637ms/step - loss: 0.7982 - val_loss: 59.7764\n",
            "Epoch 26/50\n",
            "117/117 [==============================] - 74s 635ms/step - loss: nan - val_loss: nan\n",
            "Epoch 27/50\n",
            " 85/117 [====================>.........] - ETA: 20s - loss: nan"
          ]
        },
        {
          "output_type": "error",
          "ename": "KeyboardInterrupt",
          "evalue": "ignored",
          "traceback": [
            "\u001b[0;31m---------------------------------------------------------------------------\u001b[0m",
            "\u001b[0;31mKeyboardInterrupt\u001b[0m                         Traceback (most recent call last)",
            "\u001b[0;32m<ipython-input-25-5ddfb15ee6b3>\u001b[0m in \u001b[0;36m<module>\u001b[0;34m()\u001b[0m\n\u001b[1;32m      8\u001b[0m                     \u001b[0mverbose\u001b[0m\u001b[0;34m=\u001b[0m \u001b[0;36m1\u001b[0m\u001b[0;34m,\u001b[0m\u001b[0;34m\u001b[0m\u001b[0;34m\u001b[0m\u001b[0m\n\u001b[1;32m      9\u001b[0m                     \u001b[0mshuffle\u001b[0m\u001b[0;34m=\u001b[0m\u001b[0;32mFalse\u001b[0m\u001b[0;34m,\u001b[0m\u001b[0;34m\u001b[0m\u001b[0;34m\u001b[0m\u001b[0m\n\u001b[0;32m---> 10\u001b[0;31m                     callbacks= [reduce_lr, es])\n\u001b[0m",
            "\u001b[0;32m/usr/local/lib/python3.7/dist-packages/keras/engine/training.py\u001b[0m in \u001b[0;36mfit\u001b[0;34m(self, x, y, batch_size, epochs, verbose, callbacks, validation_split, validation_data, shuffle, class_weight, sample_weight, initial_epoch, steps_per_epoch, validation_steps, validation_batch_size, validation_freq, max_queue_size, workers, use_multiprocessing)\u001b[0m\n\u001b[1;32m   1182\u001b[0m                 _r=1):\n\u001b[1;32m   1183\u001b[0m               \u001b[0mcallbacks\u001b[0m\u001b[0;34m.\u001b[0m\u001b[0mon_train_batch_begin\u001b[0m\u001b[0;34m(\u001b[0m\u001b[0mstep\u001b[0m\u001b[0;34m)\u001b[0m\u001b[0;34m\u001b[0m\u001b[0;34m\u001b[0m\u001b[0m\n\u001b[0;32m-> 1184\u001b[0;31m               \u001b[0mtmp_logs\u001b[0m \u001b[0;34m=\u001b[0m \u001b[0mself\u001b[0m\u001b[0;34m.\u001b[0m\u001b[0mtrain_function\u001b[0m\u001b[0;34m(\u001b[0m\u001b[0miterator\u001b[0m\u001b[0;34m)\u001b[0m\u001b[0;34m\u001b[0m\u001b[0;34m\u001b[0m\u001b[0m\n\u001b[0m\u001b[1;32m   1185\u001b[0m               \u001b[0;32mif\u001b[0m \u001b[0mdata_handler\u001b[0m\u001b[0;34m.\u001b[0m\u001b[0mshould_sync\u001b[0m\u001b[0;34m:\u001b[0m\u001b[0;34m\u001b[0m\u001b[0;34m\u001b[0m\u001b[0m\n\u001b[1;32m   1186\u001b[0m                 \u001b[0mcontext\u001b[0m\u001b[0;34m.\u001b[0m\u001b[0masync_wait\u001b[0m\u001b[0;34m(\u001b[0m\u001b[0;34m)\u001b[0m\u001b[0;34m\u001b[0m\u001b[0;34m\u001b[0m\u001b[0m\n",
            "\u001b[0;32m/usr/local/lib/python3.7/dist-packages/tensorflow/python/eager/def_function.py\u001b[0m in \u001b[0;36m__call__\u001b[0;34m(self, *args, **kwds)\u001b[0m\n\u001b[1;32m    883\u001b[0m \u001b[0;34m\u001b[0m\u001b[0m\n\u001b[1;32m    884\u001b[0m       \u001b[0;32mwith\u001b[0m \u001b[0mOptionalXlaContext\u001b[0m\u001b[0;34m(\u001b[0m\u001b[0mself\u001b[0m\u001b[0;34m.\u001b[0m\u001b[0m_jit_compile\u001b[0m\u001b[0;34m)\u001b[0m\u001b[0;34m:\u001b[0m\u001b[0;34m\u001b[0m\u001b[0;34m\u001b[0m\u001b[0m\n\u001b[0;32m--> 885\u001b[0;31m         \u001b[0mresult\u001b[0m \u001b[0;34m=\u001b[0m \u001b[0mself\u001b[0m\u001b[0;34m.\u001b[0m\u001b[0m_call\u001b[0m\u001b[0;34m(\u001b[0m\u001b[0;34m*\u001b[0m\u001b[0margs\u001b[0m\u001b[0;34m,\u001b[0m \u001b[0;34m**\u001b[0m\u001b[0mkwds\u001b[0m\u001b[0;34m)\u001b[0m\u001b[0;34m\u001b[0m\u001b[0;34m\u001b[0m\u001b[0m\n\u001b[0m\u001b[1;32m    886\u001b[0m \u001b[0;34m\u001b[0m\u001b[0m\n\u001b[1;32m    887\u001b[0m       \u001b[0mnew_tracing_count\u001b[0m \u001b[0;34m=\u001b[0m \u001b[0mself\u001b[0m\u001b[0;34m.\u001b[0m\u001b[0mexperimental_get_tracing_count\u001b[0m\u001b[0;34m(\u001b[0m\u001b[0;34m)\u001b[0m\u001b[0;34m\u001b[0m\u001b[0;34m\u001b[0m\u001b[0m\n",
            "\u001b[0;32m/usr/local/lib/python3.7/dist-packages/tensorflow/python/eager/def_function.py\u001b[0m in \u001b[0;36m_call\u001b[0;34m(self, *args, **kwds)\u001b[0m\n\u001b[1;32m    915\u001b[0m       \u001b[0;31m# In this case we have created variables on the first call, so we run the\u001b[0m\u001b[0;34m\u001b[0m\u001b[0;34m\u001b[0m\u001b[0;34m\u001b[0m\u001b[0m\n\u001b[1;32m    916\u001b[0m       \u001b[0;31m# defunned version which is guaranteed to never create variables.\u001b[0m\u001b[0;34m\u001b[0m\u001b[0;34m\u001b[0m\u001b[0;34m\u001b[0m\u001b[0m\n\u001b[0;32m--> 917\u001b[0;31m       \u001b[0;32mreturn\u001b[0m \u001b[0mself\u001b[0m\u001b[0;34m.\u001b[0m\u001b[0m_stateless_fn\u001b[0m\u001b[0;34m(\u001b[0m\u001b[0;34m*\u001b[0m\u001b[0margs\u001b[0m\u001b[0;34m,\u001b[0m \u001b[0;34m**\u001b[0m\u001b[0mkwds\u001b[0m\u001b[0;34m)\u001b[0m  \u001b[0;31m# pylint: disable=not-callable\u001b[0m\u001b[0;34m\u001b[0m\u001b[0;34m\u001b[0m\u001b[0m\n\u001b[0m\u001b[1;32m    918\u001b[0m     \u001b[0;32melif\u001b[0m \u001b[0mself\u001b[0m\u001b[0;34m.\u001b[0m\u001b[0m_stateful_fn\u001b[0m \u001b[0;32mis\u001b[0m \u001b[0;32mnot\u001b[0m \u001b[0;32mNone\u001b[0m\u001b[0;34m:\u001b[0m\u001b[0;34m\u001b[0m\u001b[0;34m\u001b[0m\u001b[0m\n\u001b[1;32m    919\u001b[0m       \u001b[0;31m# Release the lock early so that multiple threads can perform the call\u001b[0m\u001b[0;34m\u001b[0m\u001b[0;34m\u001b[0m\u001b[0;34m\u001b[0m\u001b[0m\n",
            "\u001b[0;32m/usr/local/lib/python3.7/dist-packages/tensorflow/python/eager/function.py\u001b[0m in \u001b[0;36m__call__\u001b[0;34m(self, *args, **kwargs)\u001b[0m\n\u001b[1;32m   3038\u001b[0m        filtered_flat_args) = self._maybe_define_function(args, kwargs)\n\u001b[1;32m   3039\u001b[0m     return graph_function._call_flat(\n\u001b[0;32m-> 3040\u001b[0;31m         filtered_flat_args, captured_inputs=graph_function.captured_inputs)  # pylint: disable=protected-access\n\u001b[0m\u001b[1;32m   3041\u001b[0m \u001b[0;34m\u001b[0m\u001b[0m\n\u001b[1;32m   3042\u001b[0m   \u001b[0;34m@\u001b[0m\u001b[0mproperty\u001b[0m\u001b[0;34m\u001b[0m\u001b[0;34m\u001b[0m\u001b[0m\n",
            "\u001b[0;32m/usr/local/lib/python3.7/dist-packages/tensorflow/python/eager/function.py\u001b[0m in \u001b[0;36m_call_flat\u001b[0;34m(self, args, captured_inputs, cancellation_manager)\u001b[0m\n\u001b[1;32m   1962\u001b[0m       \u001b[0;31m# No tape is watching; skip to running the function.\u001b[0m\u001b[0;34m\u001b[0m\u001b[0;34m\u001b[0m\u001b[0;34m\u001b[0m\u001b[0m\n\u001b[1;32m   1963\u001b[0m       return self._build_call_outputs(self._inference_function.call(\n\u001b[0;32m-> 1964\u001b[0;31m           ctx, args, cancellation_manager=cancellation_manager))\n\u001b[0m\u001b[1;32m   1965\u001b[0m     forward_backward = self._select_forward_and_backward_functions(\n\u001b[1;32m   1966\u001b[0m         \u001b[0margs\u001b[0m\u001b[0;34m,\u001b[0m\u001b[0;34m\u001b[0m\u001b[0;34m\u001b[0m\u001b[0m\n",
            "\u001b[0;32m/usr/local/lib/python3.7/dist-packages/tensorflow/python/eager/function.py\u001b[0m in \u001b[0;36mcall\u001b[0;34m(self, ctx, args, cancellation_manager)\u001b[0m\n\u001b[1;32m    594\u001b[0m               \u001b[0minputs\u001b[0m\u001b[0;34m=\u001b[0m\u001b[0margs\u001b[0m\u001b[0;34m,\u001b[0m\u001b[0;34m\u001b[0m\u001b[0;34m\u001b[0m\u001b[0m\n\u001b[1;32m    595\u001b[0m               \u001b[0mattrs\u001b[0m\u001b[0;34m=\u001b[0m\u001b[0mattrs\u001b[0m\u001b[0;34m,\u001b[0m\u001b[0;34m\u001b[0m\u001b[0;34m\u001b[0m\u001b[0m\n\u001b[0;32m--> 596\u001b[0;31m               ctx=ctx)\n\u001b[0m\u001b[1;32m    597\u001b[0m         \u001b[0;32melse\u001b[0m\u001b[0;34m:\u001b[0m\u001b[0;34m\u001b[0m\u001b[0;34m\u001b[0m\u001b[0m\n\u001b[1;32m    598\u001b[0m           outputs = execute.execute_with_cancellation(\n",
            "\u001b[0;32m/usr/local/lib/python3.7/dist-packages/tensorflow/python/eager/execute.py\u001b[0m in \u001b[0;36mquick_execute\u001b[0;34m(op_name, num_outputs, inputs, attrs, ctx, name)\u001b[0m\n\u001b[1;32m     58\u001b[0m     \u001b[0mctx\u001b[0m\u001b[0;34m.\u001b[0m\u001b[0mensure_initialized\u001b[0m\u001b[0;34m(\u001b[0m\u001b[0;34m)\u001b[0m\u001b[0;34m\u001b[0m\u001b[0;34m\u001b[0m\u001b[0m\n\u001b[1;32m     59\u001b[0m     tensors = pywrap_tfe.TFE_Py_Execute(ctx._handle, device_name, op_name,\n\u001b[0;32m---> 60\u001b[0;31m                                         inputs, attrs, num_outputs)\n\u001b[0m\u001b[1;32m     61\u001b[0m   \u001b[0;32mexcept\u001b[0m \u001b[0mcore\u001b[0m\u001b[0;34m.\u001b[0m\u001b[0m_NotOkStatusException\u001b[0m \u001b[0;32mas\u001b[0m \u001b[0me\u001b[0m\u001b[0;34m:\u001b[0m\u001b[0;34m\u001b[0m\u001b[0;34m\u001b[0m\u001b[0m\n\u001b[1;32m     62\u001b[0m     \u001b[0;32mif\u001b[0m \u001b[0mname\u001b[0m \u001b[0;32mis\u001b[0m \u001b[0;32mnot\u001b[0m \u001b[0;32mNone\u001b[0m\u001b[0;34m:\u001b[0m\u001b[0;34m\u001b[0m\u001b[0;34m\u001b[0m\u001b[0m\n",
            "\u001b[0;31mKeyboardInterrupt\u001b[0m: "
          ]
        }
      ]
    },
    {
      "cell_type": "code",
      "metadata": {
        "id": "czMZAGOcVE8C"
      },
      "source": [
        "plt.plot(history.history['loss'])\n",
        "plt.plot(history.history['val_loss'])\n",
        "plt.title('model loss')\n",
        "plt.ylabel('loss')\n",
        "plt.xlabel('epoch')\n",
        "plt.legend(['train', 'test'], loc='upper left')"
      ],
      "execution_count": null,
      "outputs": []
    },
    {
      "cell_type": "code",
      "metadata": {
        "id": "oG5J8sF9XaND"
      },
      "source": [
        "# from pandas.tseries.holiday import USFederalHolidayCalendar\n",
        "# from pandas.tseries.offsets import CustomBusinessDay\n",
        "# us_bd = CustomBusinessDay(calendar=USFederalHolidayCalendar())\n",
        "\n",
        "# n_past = 16\n",
        "# n_days_for_prediction=15  #let us predict past 15 days\n",
        "\n",
        "# predict_period_dates = pd.date_range(list(train_dates)[-n_past], periods=n_days_for_prediction, freq=us_bd).tolist()\n",
        "# print(predict_period_dates)"
      ],
      "execution_count": null,
      "outputs": []
    },
    {
      "cell_type": "code",
      "metadata": {
        "id": "DNetBqwMSPcn"
      },
      "source": [
        "y_pred = model.predict(X_test)"
      ],
      "execution_count": null,
      "outputs": []
    },
    {
      "cell_type": "code",
      "metadata": {
        "id": "8yBERsGsS3ty"
      },
      "source": [
        "y_pred = Y_scaler.inverse_transform(y_pred)\n",
        "y_test = Y_scaler.inverse_transform(y_test)"
      ],
      "execution_count": null,
      "outputs": []
    },
    {
      "cell_type": "code",
      "metadata": {
        "id": "KFrorRvATAfG"
      },
      "source": [
        "plt.figure(figsize= (14,5))\n",
        "plt.plot(y_test, color= 'red', label= 'Real Google Stock Price')\n",
        "plt.plot(y_pred, color= 'blue', label= 'Predicted Google Stock Price')\n",
        "plt.title('Google Stock Price Prediction')\n",
        "plt.xlabel('Time')\n",
        "plt.ylabel('Google Stock Price')\n",
        "plt.legend()\n",
        "plt.show()"
      ],
      "execution_count": null,
      "outputs": []
    }
  ]
}